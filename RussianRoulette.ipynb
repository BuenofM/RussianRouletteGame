{
 "cells": [
  {
   "cell_type": "markdown",
   "metadata": {},
   "source": [
    "## Russian Roulette\n",
    "\n",
    "This is a wheel simulating the game\n",
    "https://wheeldecide.com/wheels/comedy/russian-roullette-spinner/\n",
    "\n",
    "\n",
    "Another online version\n",
    "https://www.newgrounds.com/portal/view/624483\n"
   ]
  },
  {
   "cell_type": "markdown",
   "metadata": {},
   "source": [
    "Schedule:\n",
    "- Friday morning: basic version of the game! DONE\n",
    "- Friday afernoon: we can perfect and develop it more\n",
    "\n",
    "Deliverables: \n",
    "- process + code \n",
    "- simplified version of the game\n",
    "= 20 min presentation (demo included)"
   ]
  },
  {
   "cell_type": "code",
   "execution_count": null,
   "metadata": {},
   "outputs": [],
   "source": [
    "import random\n",
    "import time"
   ]
  },
  {
   "cell_type": "code",
   "execution_count": null,
   "metadata": {},
   "outputs": [],
   "source": [
    "def RussianRoulette():\n",
    "    \n",
    "    print(\"\"\"Привет!\\n Welcome to \\n\n",
    "____ ____ ____ ____ ____ ____ ____ _________ ____ ____ ____ ____ ____ ____ ____ ____ \n",
    "||R |||u |||s |||s |||i |||a |||n |||       |||R |||o |||u |||l |||e |||t |||t |||e ||\n",
    "||__|||__|||__|||__|||__|||__|||__|||_______|||__|||__|||__|||__|||__|||__|||__|||__||\n",
    "|/__\\|/__\\|/__\\|/__\\|/__\\|/__\\|/__\\|/_______\\|/__\\|/__\\|/__\\|/__\\|/__\\|/__\\|/__\\|/__\\|\n",
    "\n",
    "\"\"\")          \n",
    "          \n",
    "          \n",
    "    print(\"First, you must select your weapon (this decision will affect your odds).\\n\")\n",
    "    choose_gun()"
   ]
  },
  {
   "cell_type": "code",
   "execution_count": null,
   "metadata": {},
   "outputs": [],
   "source": [
    "def choose_gun():\n",
    "    print('\\n(a) = classic_revolver \\n(b) = mateba (for the nervous ones) \\n(c) = beretta93R (for the braver ones)\\n')\n",
    "    gun = input(\"So, which gun do you want to use?\")\n",
    "    \n",
    "    if gun == 'a':\n",
    "        print(\"You have selected the classic mode.\")\n",
    "        ClassicRevolverGame()\n",
    "    \n",
    "    elif gun == 'c':\n",
    "        print(\"Okay... You're quite the gambler...\")\n",
    "        Beretta93RGame()\n",
    "        \n",
    "    elif gun == 'b':\n",
    "        print(\"Playing it safe hein?\")\n",
    "        MetabaGame()\n",
    "        \n",
    "    else:\n",
    "        print(\"Please choose 'c', 'b' or 'm'.\")\n",
    "        \n",
    "    time.sleep(2)\n",
    "    outcome = random.choice(gun)\n",
    "    \n",
    "    if outcome == 'alive':\n",
    "        print(f'You\\'re {outcome} ! For the moment...')\n",
    "    elif outcome== 'dead':\n",
    "        print(f'You\\'re {outcome}. Game over.')\n",
    "    return"
   ]
  },
  {
   "cell_type": "code",
   "execution_count": null,
   "metadata": {},
   "outputs": [],
   "source": [
    "def MetabaGame():\n",
    "    \n",
    "    shots = ['deadly', 'empty', 'empty', 'empty', 'empty', 'empty', 'empty']\n",
    "    random.shuffle(shots)\n",
    "        \n",
    "    counter = 0\n",
    "    \n",
    "    while len(shots) != 0:\n",
    "        bam = shots.pop()\n",
    "        counter += 1\n",
    "        print(\"Round #\", counter)\n",
    "        print(\"Your shot was\", bam)\n",
    "        \n",
    "        if bam == 'deadly':\n",
    "            print(\"You died. Game over\")\n",
    "            break\n",
    "            \n",
    "        if bam == 'empty':\n",
    "            time.sleep(1)\n",
    "            decision = input('Do you want to shoot again? y/n')\n",
    "            if decision == \"y\":\n",
    "                bam\n",
    "            if decision == \"n\":\n",
    "                print('Game over')\n",
    "                break"
   ]
  },
  {
   "cell_type": "code",
   "execution_count": null,
   "metadata": {},
   "outputs": [],
   "source": [
    "def ClassicRevolverGame():\n",
    "    \n",
    "    shots = ['deadly', 'empty', 'empty', 'empty', 'empty', 'empty']\n",
    "    random.shuffle(shots)\n",
    "        \n",
    "    counter = 0\n",
    "    \n",
    "    while len(shots) != 0:\n",
    "        bam = shots.pop()\n",
    "        counter += 1\n",
    "        print(\"Round #\", counter)\n",
    "        print(\"Your shot was\", bam)\n",
    "        \n",
    "        if bam == 'deadly':\n",
    "            print(\"You died. Game over\")\n",
    "            break\n",
    "            \n",
    "        if bam == 'empty':\n",
    "            time.sleep(1)\n",
    "            decision = input('Do you want to shoot again? y/n')\n",
    "            if decision == \"y\":\n",
    "                bam\n",
    "            if decision == \"n\":\n",
    "                print('Game over')\n",
    "                break"
   ]
  },
  {
   "cell_type": "code",
   "execution_count": null,
   "metadata": {},
   "outputs": [],
   "source": [
    "def Beretta93RGame():\n",
    "    \n",
    "    shots = ['deadly', 'empty', 'empty']\n",
    "    random.shuffle(shots)\n",
    "        \n",
    "    counter = 0\n",
    "    \n",
    "    while len(shots) != 0:\n",
    "        bam = shots.pop()\n",
    "        counter += 1\n",
    "        print(\"Round #\", counter)\n",
    "        print(\"Your shot was\", bam)\n",
    "        \n",
    "        if bam == 'deadly':\n",
    "            print(\"You died. Game over\")\n",
    "            break\n",
    "            \n",
    "        if bam == 'empty':\n",
    "            time.sleep(1)\n",
    "            decision = input('Do you want to shoot again? y/n')\n",
    "            if decision == \"y\":\n",
    "                bam\n",
    "            if decision == \"n\":\n",
    "                print('Game over')\n",
    "                break"
   ]
  },
  {
   "cell_type": "code",
   "execution_count": null,
   "metadata": {},
   "outputs": [],
   "source": [
    "RussianRoulette()"
   ]
  },
  {
   "cell_type": "code",
   "execution_count": null,
   "metadata": {},
   "outputs": [],
   "source": [
    "#multiple players??\n",
    "\n",
    "players = input(\"Second, choose your game mode; are you playing ALONE or 1V1?\")\n",
    "    \n",
    "if players == 'alone':\n",
    "    SinglePlayer()\n",
    "        \n",
    "else:\n",
    "    MultiplePlayers()\n",
    "\n",
    "def MultiplePlayers():\n",
    "    pass"
   ]
  },
  {
   "cell_type": "code",
   "execution_count": 1,
   "metadata": {},
   "outputs": [],
   "source": [
    "class color:\n",
    "   PURPLE = '\\033[95m'\n",
    "   CYAN = '\\033[96m'\n",
    "   DARKCYAN = '\\033[36m'\n",
    "   BLUE = '\\033[94m'\n",
    "   GREEN = '\\033[92m'\n",
    "   YELLOW = '\\033[93m'\n",
    "   RED = '\\033[91m'\n",
    "   BOLD = '\\033[1m'\n",
    "   UNDERLINE = '\\033[4m'\n",
    "   END = '\\033[0m'"
   ]
  },
  {
   "cell_type": "code",
   "execution_count": 9,
   "metadata": {},
   "outputs": [
    {
     "name": "stdout",
     "output_type": "stream",
     "text": [
      "\u001b[1mHello World !\u001b[0m\n"
     ]
    }
   ],
   "source": [
    "print(color.BOLD+ 'Hello World !' + color.END)"
   ]
  },
  {
   "cell_type": "code",
   "execution_count": null,
   "metadata": {},
   "outputs": [],
   "source": []
  }
 ],
 "metadata": {
  "kernelspec": {
   "display_name": "Python 3",
   "language": "python",
   "name": "python3"
  },
  "language_info": {
   "codemirror_mode": {
    "name": "ipython",
    "version": 3
   },
   "file_extension": ".py",
   "mimetype": "text/x-python",
   "name": "python",
   "nbconvert_exporter": "python",
   "pygments_lexer": "ipython3",
   "version": "3.7.4"
  }
 },
 "nbformat": 4,
 "nbformat_minor": 2
}
