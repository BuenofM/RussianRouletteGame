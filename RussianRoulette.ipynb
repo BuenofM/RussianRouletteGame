{
 "cells": [
  {
   "cell_type": "markdown",
   "metadata": {},
   "source": [
    "# Where do we start?\n",
    "\n",
    "Deconstruct the original game:\n",
    "- what elements do we want to keep?\n",
    "- what are the rules of the game? \n",
    "- (for exemple, two players? or one player and a CPU?)\n",
    "\n",
    "Drafting the game logic:\n",
    "- what logic/steps will we follow \n",
    "- the variables and functions that we'll need\n",
    "- define what each of us will code"
   ]
  },
  {
   "cell_type": "markdown",
   "metadata": {},
   "source": [
    "Schedule:\n",
    "- Friday morning: basic version of the game!\n",
    "- Friday afernoon: we can perfect and develop it more\n",
    "\n",
    "Deliverables: a simplified version (our version) of the game\n",
    "- 20 min presentation (demo included)\n",
    "- process + code "
   ]
  },
  {
   "cell_type": "markdown",
   "metadata": {},
   "source": [
    "## Russian roulette\n",
    "\n",
    "Game of chance where a 6-shooter revolver is emptied of all, but one bullet. The cylinder is spun and the trigger is pulled by the first player. The next player does the same. Until one of the players take the bullet. \n",
    "\n",
    "\n",
    "This is a wheel simulating the game\n",
    "https://wheeldecide.com/wheels/comedy/russian-roullette-spinner/\n",
    "\n",
    "\n",
    "Another online version\n",
    "https://www.newgrounds.com/portal/view/624483\n"
   ]
  },
  {
   "cell_type": "markdown",
   "metadata": {},
   "source": [
    "## 1. Steps\n",
    "\n",
    "1. Player places 1 single round in a revolver\n",
    "2. Player spins the cylinder \n",
    "3. Player pulls the trigger "
   ]
  },
  {
   "cell_type": "code",
   "execution_count": 8,
   "metadata": {},
   "outputs": [],
   "source": [
    "import random\n",
    "import time"
   ]
  },
  {
   "cell_type": "code",
   "execution_count": 9,
   "metadata": {},
   "outputs": [],
   "source": [
    "def RussianRoulette():\n",
    "    \n",
    "    print(\"Hello! Welcome to Russian Roulette.\\n\")\n",
    "    print(\"First, you must select your weapon (this decision will affect your odds).\\n\")\n",
    "    choose_gun()"
   ]
  },
  {
   "cell_type": "code",
   "execution_count": 10,
   "metadata": {},
   "outputs": [],
   "source": [
    "def choose_gun():\n",
    "    print('\\n(a) = classic_revolver \\n(b) = mateba (for the nervous ones) \\n(c) = beretta93R (for the braver ones)\\n')\n",
    "    gun = input(\"So, which gun do you want to use?\")\n",
    "    \n",
    "    if gun == 'a':\n",
    "        print(\"You have selected the classic mode.\")\n",
    "        ClassicRevolverGame()\n",
    "    \n",
    "    elif gun == 'c':\n",
    "        print(\"Okay... You're quite the gambler...\")\n",
    "        Beretta93RGame()\n",
    "        \n",
    "    elif gun == 'b':\n",
    "        print(\"Playing it safe hein?\")\n",
    "        MetabaGame()\n",
    "        \n",
    "    else:\n",
    "        print(\"Please choose 'c', 'b' or 'm'.\")\n",
    "        \n",
    "    time.sleep(2)\n",
    "    outcome = random.choice(gun)\n",
    "    \n",
    "    if outcome == 'alive':\n",
    "        print(f'You\\'re {outcome} ! For the moment...')\n",
    "    elif outcome== 'dead':\n",
    "        print(f'You\\'re {outcome}. Game over.')\n",
    "    return"
   ]
  },
  {
   "cell_type": "code",
   "execution_count": 11,
   "metadata": {},
   "outputs": [],
   "source": [
    "def MetabaGame():\n",
    "    \n",
    "    shots = ['deadly', 'empty', 'empty', 'empty', 'empty', 'empty', 'empty']\n",
    "    random.shuffle(shots)\n",
    "        \n",
    "    counter = 0\n",
    "    \n",
    "    while len(shots) != 0:\n",
    "        bam = shots.pop()\n",
    "        counter += 1\n",
    "        print(\"Round #\", counter)\n",
    "        print(\"Your shot was\", bam)\n",
    "        \n",
    "        if bam == 'deadly':\n",
    "            print(\"You died. Game over\")\n",
    "            break\n",
    "            \n",
    "        if bam == 'empty':\n",
    "            time.sleep(1)\n",
    "            decision = input('Do you want to shoot again? y/n')\n",
    "            if decision == \"y\":\n",
    "                bam\n",
    "            if decision == \"n\":\n",
    "                print('Game over')\n",
    "                break"
   ]
  },
  {
   "cell_type": "code",
   "execution_count": 12,
   "metadata": {},
   "outputs": [],
   "source": [
    "def ClassicRevolverGame():\n",
    "    \n",
    "    shots = ['deadly', 'empty', 'empty', 'empty', 'empty', 'empty']\n",
    "    random.shuffle(shots)\n",
    "        \n",
    "    counter = 0\n",
    "    \n",
    "    while len(shots) != 0:\n",
    "        bam = shots.pop()\n",
    "        counter += 1\n",
    "        print(\"Round #\", counter)\n",
    "        print(\"Your shot was\", bam)\n",
    "        \n",
    "        if bam == 'deadly':\n",
    "            print(\"You died. Game over\")\n",
    "            break\n",
    "            \n",
    "        if bam == 'empty':\n",
    "            time.sleep(1)\n",
    "            decision = input('Do you want to shoot again? y/n')\n",
    "            if decision == \"y\":\n",
    "                bam\n",
    "            if decision == \"n\":\n",
    "                print('Game over')\n",
    "                break"
   ]
  },
  {
   "cell_type": "code",
   "execution_count": 13,
   "metadata": {},
   "outputs": [],
   "source": [
    "def Beretta93RGame():\n",
    "    \n",
    "    shots = ['deadly', 'empty', 'empty']\n",
    "    random.shuffle(shots)\n",
    "        \n",
    "    counter = 0\n",
    "    \n",
    "    while len(shots) != 0:\n",
    "        bam = shots.pop()\n",
    "        counter += 1\n",
    "        print(\"Round #\", counter)\n",
    "        print(\"Your shot was\", bam)\n",
    "        \n",
    "        if bam == 'deadly':\n",
    "            print(\"You died. Game over\")\n",
    "            break\n",
    "            \n",
    "        if bam == 'empty':\n",
    "            time.sleep(1)\n",
    "            decision = input('Do you want to shoot again? y/n')\n",
    "            if decision == \"y\":\n",
    "                bam\n",
    "            if decision == \"n\":\n",
    "                print('Game over')\n",
    "                break"
   ]
  },
  {
   "cell_type": "code",
   "execution_count": 16,
   "metadata": {},
   "outputs": [
    {
     "name": "stdout",
     "output_type": "stream",
     "text": [
      "Hello! Welcome to Russian Roulette.\n",
      "\n",
      "First, you must select your weapon (this decision will affect your odds).\n",
      "\n",
      "\n",
      "(a) = classic_revolver \n",
      "(b) = mateba (for the nervous ones) \n",
      "(c) = beretta93R (for the braver ones)\n",
      "\n",
      "So, which gun do you want to use?c\n",
      "Okay... You're quite the gambler...\n",
      "Round # 1\n",
      "Your shot was empty\n",
      "Do you want to shoot again? y/nn\n",
      "Game over\n"
     ]
    }
   ],
   "source": [
    "RussianRoulette()"
   ]
  },
  {
   "cell_type": "code",
   "execution_count": null,
   "metadata": {},
   "outputs": [],
   "source": [
    "#multiple players??\n",
    "\n",
    "players = input(\"Second, choose your game mode; are you playing ALONE or 1V1?\")\n",
    "    \n",
    "if players == 'alone':\n",
    "    SinglePlayer()\n",
    "        \n",
    "else:\n",
    "    MultiplePlayers()\n",
    "\n",
    "def MultiplePlayers():\n",
    "    pass"
   ]
  }
 ],
 "metadata": {
  "kernelspec": {
   "display_name": "Python 3",
   "language": "python",
   "name": "python3"
  },
  "language_info": {
   "codemirror_mode": {
    "name": "ipython",
    "version": 3
   },
   "file_extension": ".py",
   "mimetype": "text/x-python",
   "name": "python",
   "nbconvert_exporter": "python",
   "pygments_lexer": "ipython3",
   "version": "3.7.4"
  }
 },
 "nbformat": 4,
 "nbformat_minor": 2
}
